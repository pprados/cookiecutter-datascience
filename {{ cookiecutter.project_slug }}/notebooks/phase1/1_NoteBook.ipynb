{
 "metadata": {
  "kernelspec": {
   "display_name": "{{ cookiecutter.project_slug }}",
   "language": "python",
   "name": "{{ cookiecutter.project_slug }}"
  }
 },
 "cells": [
  {
   "cell_type": "markdown",
   "metadata": {},
   "source": [
    "# Ceci est un notebook d'exemple pour '{{ cookiecutter.project_name }}'\n",
    "%load_ext autoreload\n",
    "%autoreload 2"
   ]
  },
  {
   "cell_type": "code",
   "execution_count": null,
   "metadata": {},
   "outputs": [],
   "source": [
    "# TODO: supprimer ce fichier et/ou le remplacer si besoin par un notebook du projet\n",
    "import os\n",
    "from {{ cookiecutter.project_slug }} import *\n",
    "from {{ cookiecutter.project_slug }}.tools import *\n",
    "",
    "DATA=os.getenv(\"DATA\",\"data\")+\"/\""
   ]
  },
  {
   "cell_type": "code",
   "execution_count": null,
   "metadata": {},
   "outputs": [],
   "source": [
    "print(\"hello world\")"
   ]
  }
 ],
 "nbformat": 4,
 "nbformat_minor": 2
}
